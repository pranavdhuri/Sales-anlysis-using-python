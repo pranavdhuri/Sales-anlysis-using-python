{
 "cells": [
  {
   "cell_type": "code",
   "execution_count": 1,
   "metadata": {},
   "outputs": [],
   "source": [
    "import os\n",
    "import numpy as np\n",
    "import pandas as pd\n",
    "import matplotlib.pyplot as plt"
   ]
  },
  {
   "cell_type": "code",
   "execution_count": 2,
   "metadata": {},
   "outputs": [],
   "source": [
    "os.chdir(\"C://Users//user//Downloads\")"
   ]
  },
  {
   "cell_type": "code",
   "execution_count": 3,
   "metadata": {},
   "outputs": [],
   "source": [
    "Food = pd.read_excel(\"Data_CaseStudy_DataScientist_Food.xlsx\")"
   ]
  },
  {
   "cell_type": "code",
   "execution_count": 4,
   "metadata": {},
   "outputs": [
    {
     "data": {
      "text/plain": [
       "(2160, 29)"
      ]
     },
     "execution_count": 4,
     "metadata": {},
     "output_type": "execute_result"
    }
   ],
   "source": [
    "Food.shape"
   ]
  },
  {
   "cell_type": "code",
   "execution_count": 5,
   "metadata": {},
   "outputs": [
    {
     "data": {
      "text/html": [
       "<div>\n",
       "<style scoped>\n",
       "    .dataframe tbody tr th:only-of-type {\n",
       "        vertical-align: middle;\n",
       "    }\n",
       "\n",
       "    .dataframe tbody tr th {\n",
       "        vertical-align: top;\n",
       "    }\n",
       "\n",
       "    .dataframe thead th {\n",
       "        text-align: right;\n",
       "    }\n",
       "</style>\n",
       "<table border=\"1\" class=\"dataframe\">\n",
       "  <thead>\n",
       "    <tr style=\"text-align: right;\">\n",
       "      <th></th>\n",
       "      <th>market</th>\n",
       "      <th>fact</th>\n",
       "      <th>brand</th>\n",
       "      <th>flavor</th>\n",
       "      <th>pack size - gms</th>\n",
       "      <th>jan11</th>\n",
       "      <th>feb11</th>\n",
       "      <th>mar11</th>\n",
       "      <th>apr11</th>\n",
       "      <th>may11</th>\n",
       "      <th>...</th>\n",
       "      <th>mar12</th>\n",
       "      <th>apr12</th>\n",
       "      <th>may12</th>\n",
       "      <th>jun12</th>\n",
       "      <th>jul12</th>\n",
       "      <th>aug12</th>\n",
       "      <th>sep12</th>\n",
       "      <th>oct12</th>\n",
       "      <th>nov12</th>\n",
       "      <th>dec12</th>\n",
       "    </tr>\n",
       "  </thead>\n",
       "  <tbody>\n",
       "    <tr>\n",
       "      <th>0</th>\n",
       "      <td>National</td>\n",
       "      <td>Sales Volume(kg)</td>\n",
       "      <td>B</td>\n",
       "      <td>Savoury</td>\n",
       "      <td>1000</td>\n",
       "      <td>14.239059</td>\n",
       "      <td>41.020050</td>\n",
       "      <td>22.704157</td>\n",
       "      <td>23.023361</td>\n",
       "      <td>14.687552</td>\n",
       "      <td>...</td>\n",
       "      <td>26.466415</td>\n",
       "      <td>20.434925</td>\n",
       "      <td>9.302184</td>\n",
       "      <td>6.958103</td>\n",
       "      <td>42.893951</td>\n",
       "      <td>13.713386</td>\n",
       "      <td>26.458876</td>\n",
       "      <td>29.285673</td>\n",
       "      <td>41.359081</td>\n",
       "      <td>15.121767</td>\n",
       "    </tr>\n",
       "    <tr>\n",
       "      <th>1</th>\n",
       "      <td>National</td>\n",
       "      <td>Sales Volume(kg)</td>\n",
       "      <td>B</td>\n",
       "      <td>Plain</td>\n",
       "      <td>1000</td>\n",
       "      <td>NaN</td>\n",
       "      <td>NaN</td>\n",
       "      <td>NaN</td>\n",
       "      <td>NaN</td>\n",
       "      <td>NaN</td>\n",
       "      <td>...</td>\n",
       "      <td>NaN</td>\n",
       "      <td>NaN</td>\n",
       "      <td>NaN</td>\n",
       "      <td>NaN</td>\n",
       "      <td>NaN</td>\n",
       "      <td>NaN</td>\n",
       "      <td>1425.298800</td>\n",
       "      <td>4343.906300</td>\n",
       "      <td>7653.757800</td>\n",
       "      <td>8304.913100</td>\n",
       "    </tr>\n",
       "    <tr>\n",
       "      <th>2</th>\n",
       "      <td>National</td>\n",
       "      <td>Sales Volume(kg)</td>\n",
       "      <td>B</td>\n",
       "      <td>Plain</td>\n",
       "      <td>200</td>\n",
       "      <td>NaN</td>\n",
       "      <td>NaN</td>\n",
       "      <td>NaN</td>\n",
       "      <td>NaN</td>\n",
       "      <td>NaN</td>\n",
       "      <td>...</td>\n",
       "      <td>218.090576</td>\n",
       "      <td>305.332275</td>\n",
       "      <td>445.214264</td>\n",
       "      <td>100.948898</td>\n",
       "      <td>707.661316</td>\n",
       "      <td>100.630104</td>\n",
       "      <td>270.060333</td>\n",
       "      <td>77.330795</td>\n",
       "      <td>222.863876</td>\n",
       "      <td>245.007019</td>\n",
       "    </tr>\n",
       "    <tr>\n",
       "      <th>3</th>\n",
       "      <td>National</td>\n",
       "      <td>Sales Volume(kg)</td>\n",
       "      <td>B</td>\n",
       "      <td>Plain</td>\n",
       "      <td>200</td>\n",
       "      <td>149.578980</td>\n",
       "      <td>31.939613</td>\n",
       "      <td>18.792332</td>\n",
       "      <td>43.465828</td>\n",
       "      <td>66.329445</td>\n",
       "      <td>...</td>\n",
       "      <td>163.752625</td>\n",
       "      <td>166.831116</td>\n",
       "      <td>183.417389</td>\n",
       "      <td>67.410652</td>\n",
       "      <td>65.745705</td>\n",
       "      <td>84.970757</td>\n",
       "      <td>86.249291</td>\n",
       "      <td>84.192749</td>\n",
       "      <td>228.908020</td>\n",
       "      <td>369.682800</td>\n",
       "    </tr>\n",
       "    <tr>\n",
       "      <th>4</th>\n",
       "      <td>National</td>\n",
       "      <td>Sales Volume(kg)</td>\n",
       "      <td>B</td>\n",
       "      <td>Plain</td>\n",
       "      <td>300</td>\n",
       "      <td>NaN</td>\n",
       "      <td>NaN</td>\n",
       "      <td>NaN</td>\n",
       "      <td>NaN</td>\n",
       "      <td>NaN</td>\n",
       "      <td>...</td>\n",
       "      <td>NaN</td>\n",
       "      <td>NaN</td>\n",
       "      <td>NaN</td>\n",
       "      <td>NaN</td>\n",
       "      <td>NaN</td>\n",
       "      <td>NaN</td>\n",
       "      <td>NaN</td>\n",
       "      <td>NaN</td>\n",
       "      <td>NaN</td>\n",
       "      <td>NaN</td>\n",
       "    </tr>\n",
       "  </tbody>\n",
       "</table>\n",
       "<p>5 rows × 29 columns</p>\n",
       "</div>"
      ],
      "text/plain": [
       "     market              fact brand   flavor  pack size - gms       jan11  \\\n",
       "0  National  Sales Volume(kg)     B  Savoury             1000   14.239059   \n",
       "1  National  Sales Volume(kg)     B    Plain             1000         NaN   \n",
       "2  National  Sales Volume(kg)     B    Plain              200         NaN   \n",
       "3  National  Sales Volume(kg)     B    Plain              200  149.578980   \n",
       "4  National  Sales Volume(kg)     B    Plain              300         NaN   \n",
       "\n",
       "       feb11      mar11      apr11      may11  ...       mar12       apr12  \\\n",
       "0  41.020050  22.704157  23.023361  14.687552  ...   26.466415   20.434925   \n",
       "1        NaN        NaN        NaN        NaN  ...         NaN         NaN   \n",
       "2        NaN        NaN        NaN        NaN  ...  218.090576  305.332275   \n",
       "3  31.939613  18.792332  43.465828  66.329445  ...  163.752625  166.831116   \n",
       "4        NaN        NaN        NaN        NaN  ...         NaN         NaN   \n",
       "\n",
       "        may12       jun12       jul12       aug12        sep12        oct12  \\\n",
       "0    9.302184    6.958103   42.893951   13.713386    26.458876    29.285673   \n",
       "1         NaN         NaN         NaN         NaN  1425.298800  4343.906300   \n",
       "2  445.214264  100.948898  707.661316  100.630104   270.060333    77.330795   \n",
       "3  183.417389   67.410652   65.745705   84.970757    86.249291    84.192749   \n",
       "4         NaN         NaN         NaN         NaN          NaN          NaN   \n",
       "\n",
       "         nov12        dec12  \n",
       "0    41.359081    15.121767  \n",
       "1  7653.757800  8304.913100  \n",
       "2   222.863876   245.007019  \n",
       "3   228.908020   369.682800  \n",
       "4          NaN          NaN  \n",
       "\n",
       "[5 rows x 29 columns]"
      ]
     },
     "execution_count": 5,
     "metadata": {},
     "output_type": "execute_result"
    }
   ],
   "source": [
    "Food.head()"
   ]
  },
  {
   "cell_type": "code",
   "execution_count": 79,
   "metadata": {},
   "outputs": [
    {
     "data": {
      "text/plain": [
       "Index(['market', 'fact', 'brand', 'flavor', 'pack size - gms', 'jan11',\n",
       "       'feb11', 'mar11', 'apr11', 'may11', 'jun11', 'jul11', 'aug11', 'sep11',\n",
       "       'oct11', 'nov11', 'dec11', 'jan12', 'feb12', 'mar12', 'apr12', 'may12',\n",
       "       'jun12', 'jul12', 'aug12', 'sep12', 'oct12', 'nov12', 'dec12'],\n",
       "      dtype='object')"
      ]
     },
     "execution_count": 79,
     "metadata": {},
     "output_type": "execute_result"
    }
   ],
   "source": [
    "Food.columns"
   ]
  },
  {
   "cell_type": "code",
   "execution_count": 80,
   "metadata": {},
   "outputs": [
    {
     "name": "stdout",
     "output_type": "stream",
     "text": [
      "<class 'pandas.core.frame.DataFrame'>\n",
      "RangeIndex: 2160 entries, 0 to 2159\n",
      "Data columns (total 29 columns):\n",
      " #   Column           Non-Null Count  Dtype  \n",
      "---  ------           --------------  -----  \n",
      " 0   market           2160 non-null   object \n",
      " 1   fact             2160 non-null   object \n",
      " 2   brand            2160 non-null   object \n",
      " 3   flavor           2160 non-null   object \n",
      " 4   pack size - gms  2160 non-null   int64  \n",
      " 5   jan11            508 non-null    float64\n",
      " 6   feb11            538 non-null    float64\n",
      " 7   mar11            550 non-null    float64\n",
      " 8   apr11            554 non-null    float64\n",
      " 9   may11            572 non-null    float64\n",
      " 10  jun11            588 non-null    float64\n",
      " 11  jul11            626 non-null    float64\n",
      " 12  aug11            646 non-null    float64\n",
      " 13  sep11            664 non-null    float64\n",
      " 14  oct11            662 non-null    float64\n",
      " 15  nov11            692 non-null    float64\n",
      " 16  dec11            742 non-null    float64\n",
      " 17  jan12            758 non-null    float64\n",
      " 18  feb12            780 non-null    float64\n",
      " 19  mar12            868 non-null    float64\n",
      " 20  apr12            908 non-null    float64\n",
      " 21  may12            956 non-null    float64\n",
      " 22  jun12            946 non-null    float64\n",
      " 23  jul12            980 non-null    float64\n",
      " 24  aug12            1016 non-null   float64\n",
      " 25  sep12            1124 non-null   float64\n",
      " 26  oct12            1134 non-null   float64\n",
      " 27  nov12            1156 non-null   float64\n",
      " 28  dec12            1186 non-null   float64\n",
      "dtypes: float64(24), int64(1), object(4)\n",
      "memory usage: 455.7+ KB\n"
     ]
    }
   ],
   "source": [
    "Food.info()"
   ]
  },
  {
   "cell_type": "code",
   "execution_count": 81,
   "metadata": {},
   "outputs": [
    {
     "data": {
      "text/plain": [
       "market                0\n",
       "fact                  0\n",
       "brand                 0\n",
       "flavor                0\n",
       "pack size - gms       0\n",
       "jan11              1652\n",
       "feb11              1622\n",
       "mar11              1610\n",
       "apr11              1606\n",
       "may11              1588\n",
       "jun11              1572\n",
       "jul11              1534\n",
       "aug11              1514\n",
       "sep11              1496\n",
       "oct11              1498\n",
       "nov11              1468\n",
       "dec11              1418\n",
       "jan12              1402\n",
       "feb12              1380\n",
       "mar12              1292\n",
       "apr12              1252\n",
       "may12              1204\n",
       "jun12              1214\n",
       "jul12              1180\n",
       "aug12              1144\n",
       "sep12              1036\n",
       "oct12              1026\n",
       "nov12              1004\n",
       "dec12               974\n",
       "dtype: int64"
      ]
     },
     "execution_count": 81,
     "metadata": {},
     "output_type": "execute_result"
    }
   ],
   "source": [
    "#missing values\n",
    "pd.isnull(Food).sum()"
   ]
  },
  {
   "cell_type": "code",
   "execution_count": 82,
   "metadata": {},
   "outputs": [],
   "source": [
    "#filling missing values\n",
    "Food = Food.fillna(0)"
   ]
  },
  {
   "cell_type": "code",
   "execution_count": 83,
   "metadata": {},
   "outputs": [
    {
     "data": {
      "text/plain": [
       "market             0\n",
       "fact               0\n",
       "brand              0\n",
       "flavor             0\n",
       "pack size - gms    0\n",
       "jan11              0\n",
       "feb11              0\n",
       "mar11              0\n",
       "apr11              0\n",
       "may11              0\n",
       "jun11              0\n",
       "jul11              0\n",
       "aug11              0\n",
       "sep11              0\n",
       "oct11              0\n",
       "nov11              0\n",
       "dec11              0\n",
       "jan12              0\n",
       "feb12              0\n",
       "mar12              0\n",
       "apr12              0\n",
       "may12              0\n",
       "jun12              0\n",
       "jul12              0\n",
       "aug12              0\n",
       "sep12              0\n",
       "oct12              0\n",
       "nov12              0\n",
       "dec12              0\n",
       "dtype: int64"
      ]
     },
     "execution_count": 83,
     "metadata": {},
     "output_type": "execute_result"
    }
   ],
   "source": [
    "pd.isnull(Food).sum()"
   ]
  },
  {
   "cell_type": "code",
   "execution_count": 84,
   "metadata": {},
   "outputs": [
    {
     "data": {
      "text/plain": [
       "National     432\n",
       "South        432\n",
       "Non-South    432\n",
       "MT           432\n",
       "TT           432\n",
       "Name: market, dtype: int64"
      ]
     },
     "execution_count": 84,
     "metadata": {},
     "output_type": "execute_result"
    }
   ],
   "source": [
    "#frequency count of markets\n",
    "Food['market'].value_counts()"
   ]
  },
  {
   "cell_type": "code",
   "execution_count": 85,
   "metadata": {},
   "outputs": [
    {
     "data": {
      "text/plain": [
       "Sales Volume(kg)    1080\n",
       "Sales Value (Rs)    1080\n",
       "Name: fact, dtype: int64"
      ]
     },
     "execution_count": 85,
     "metadata": {},
     "output_type": "execute_result"
    }
   ],
   "source": [
    "#frequency count of fact\n",
    "Food['fact'].value_counts()"
   ]
  },
  {
   "cell_type": "code",
   "execution_count": 86,
   "metadata": {},
   "outputs": [
    {
     "data": {
      "text/plain": [
       "Q    740\n",
       "S    630\n",
       "B    370\n",
       "H    210\n",
       "K    180\n",
       "L     30\n",
       "Name: brand, dtype: int64"
      ]
     },
     "execution_count": 86,
     "metadata": {},
     "output_type": "execute_result"
    }
   ],
   "source": [
    "#frequency count of brand\n",
    "Food['brand'].value_counts()"
   ]
  },
  {
   "cell_type": "code",
   "execution_count": 87,
   "metadata": {},
   "outputs": [
    {
     "data": {
      "text/plain": [
       "1000    500\n",
       "200     260\n",
       "400     250\n",
       "500     220\n",
       "28      190\n",
       "26      150\n",
       "43      130\n",
       "40       80\n",
       "800      50\n",
       "1200     40\n",
       "100      40\n",
       "150      40\n",
       "42       30\n",
       "300      20\n",
       "1600     20\n",
       "250      20\n",
       "425      20\n",
       "75       20\n",
       "1500     20\n",
       "30       10\n",
       "35       10\n",
       "550      10\n",
       "600      10\n",
       "450      10\n",
       "650      10\n",
       "Name: pack size - gms, dtype: int64"
      ]
     },
     "execution_count": 87,
     "metadata": {},
     "output_type": "execute_result"
    }
   ],
   "source": [
    "#frequency count of pack size - gms\n",
    "Food['pack size - gms'].value_counts()"
   ]
  },
  {
   "cell_type": "code",
   "execution_count": null,
   "metadata": {},
   "outputs": [],
   "source": []
  },
  {
   "cell_type": "markdown",
   "metadata": {},
   "source": [
    "## a\n",
    "## top 3 brands of 2012 in terms of total sales value in each market"
   ]
  },
  {
   "cell_type": "code",
   "execution_count": 8,
   "metadata": {},
   "outputs": [],
   "source": [
    "#dataframe where fact = Sales Value (Rs)\n",
    "Food_Rs = Food[Food['fact'] == 'Sales Value (Rs)']"
   ]
  },
  {
   "cell_type": "code",
   "execution_count": 10,
   "metadata": {},
   "outputs": [],
   "source": [
    "#Food_Rs = Food.loc[Food['fact'] == 'Sales Value (Rs)']"
   ]
  },
  {
   "cell_type": "code",
   "execution_count": 89,
   "metadata": {},
   "outputs": [
    {
     "data": {
      "text/plain": [
       "(1080, 29)"
      ]
     },
     "execution_count": 89,
     "metadata": {},
     "output_type": "execute_result"
    }
   ],
   "source": [
    "Food_Rs.shape"
   ]
  },
  {
   "cell_type": "code",
   "execution_count": 90,
   "metadata": {},
   "outputs": [
    {
     "data": {
      "text/plain": [
       "National     216\n",
       "South        216\n",
       "Non-South    216\n",
       "MT           216\n",
       "TT           216\n",
       "Name: market, dtype: int64"
      ]
     },
     "execution_count": 90,
     "metadata": {},
     "output_type": "execute_result"
    }
   ],
   "source": [
    "Food_Rs['market'].value_counts()"
   ]
  },
  {
   "cell_type": "code",
   "execution_count": 91,
   "metadata": {},
   "outputs": [
    {
     "data": {
      "text/plain": [
       "Q    370\n",
       "S    315\n",
       "B    185\n",
       "H    105\n",
       "K     90\n",
       "L     15\n",
       "Name: brand, dtype: int64"
      ]
     },
     "execution_count": 91,
     "metadata": {},
     "output_type": "execute_result"
    }
   ],
   "source": [
    "Food_Rs['brand'].value_counts()"
   ]
  },
  {
   "cell_type": "code",
   "execution_count": 11,
   "metadata": {},
   "outputs": [
    {
     "name": "stderr",
     "output_type": "stream",
     "text": [
      "<ipython-input-11-6f15c57ccba2>:1: SettingWithCopyWarning: \n",
      "A value is trying to be set on a copy of a slice from a DataFrame.\n",
      "Try using .loc[row_indexer,col_indexer] = value instead\n",
      "\n",
      "See the caveats in the documentation: https://pandas.pydata.org/pandas-docs/stable/user_guide/indexing.html#returning-a-view-versus-a-copy\n",
      "  Food_Rs['Total_2012'] = Food_Rs.loc[:,'jan12':'dec12'].sum(axis=1)\n"
     ]
    }
   ],
   "source": [
    "Food_Rs['Total_2012'] = Food_Rs.loc[:,'jan12':'dec12'].sum(axis=1)"
   ]
  },
  {
   "cell_type": "code",
   "execution_count": 15,
   "metadata": {},
   "outputs": [],
   "source": [
    "#Food_Rs.loc[:,('Total_2012')] = Food_Rs.loc[:,'jan12':'dec12'].sum(axis=1)"
   ]
  },
  {
   "cell_type": "code",
   "execution_count": 93,
   "metadata": {},
   "outputs": [
    {
     "data": {
      "text/plain": [
       "(1080, 30)"
      ]
     },
     "execution_count": 93,
     "metadata": {},
     "output_type": "execute_result"
    }
   ],
   "source": [
    "Food_Rs.shape"
   ]
  },
  {
   "cell_type": "code",
   "execution_count": 94,
   "metadata": {},
   "outputs": [],
   "source": [
    "#Food_Rs.head()"
   ]
  },
  {
   "cell_type": "code",
   "execution_count": 95,
   "metadata": {},
   "outputs": [],
   "source": [
    "Top3brands_12 = Food_Rs[['market','brand','Total_2012']]"
   ]
  },
  {
   "cell_type": "code",
   "execution_count": 96,
   "metadata": {},
   "outputs": [],
   "source": [
    "#top 3 brands of 2012 in terms of total sales value in each market\n",
    "Top3brands = Top3brands_12.groupby('market')"
   ]
  },
  {
   "cell_type": "code",
   "execution_count": 97,
   "metadata": {},
   "outputs": [
    {
     "name": "stdout",
     "output_type": "stream",
     "text": [
      "For market MT\n",
      "          Total_2012\n",
      "brand               \n",
      "Q      370833.867531\n",
      "S       92147.010736\n",
      "K       66291.639535\n",
      "B       61634.945577\n",
      "H       17066.116571\n",
      "L           7.704527\n",
      "\n",
      "For market National\n",
      "          Total_2012\n",
      "brand               \n",
      "Q      737626.797805\n",
      "S      236055.018906\n",
      "B      155423.446846\n",
      "H      147908.188225\n",
      "K      137433.397408\n",
      "L        1321.565763\n",
      "\n",
      "For market Non-South\n",
      "          Total_2012\n",
      "brand               \n",
      "Q      236954.993380\n",
      "K       74943.049826\n",
      "B       50080.315496\n",
      "S       38277.474399\n",
      "H           0.031250\n",
      "L           0.000000\n",
      "\n",
      "For market South\n",
      "          Total_2012\n",
      "brand               \n",
      "Q      500671.804426\n",
      "S      197777.544510\n",
      "H      147908.156975\n",
      "B      105343.131347\n",
      "K       62490.347582\n",
      "L        1321.565763\n",
      "\n",
      "For market TT\n",
      "          Total_2012\n",
      "brand               \n",
      "Q      366792.930275\n",
      "S      143908.008170\n",
      "H      130842.071654\n",
      "B       93788.501270\n",
      "K       71141.757873\n",
      "L        1313.861236\n",
      "\n"
     ]
    }
   ],
   "source": [
    "for market, market_df in Top3brands:\n",
    "    print('For market',market)\n",
    "    print(market_df.groupby(['brand']).sum().sort_values(['Total_2012'], ascending = False) ,end='\\n\\n')\n",
    "\n",
    "#Top 3 brands of 2012 in terms of total sales value in MT market are Q, S and K\n",
    "#Top 3 brands of 2012 in terms of total sales value in National market are Q, S and B\n",
    "#Top 3 brands of 2012 in terms of total sales value in Non-South market are Q, K and B\n",
    "#Top 3 brands of 2012 in terms of total sales value in South market are Q, S and H\n",
    "#Top 3 brands of 2012 in terms of total sales value in TT market are Q, S and H"
   ]
  },
  {
   "cell_type": "code",
   "execution_count": null,
   "metadata": {},
   "outputs": [],
   "source": []
  },
  {
   "cell_type": "markdown",
   "metadata": {},
   "source": [
    "## b \n",
    "## annual volume growth rates for three different flavors in 'South' market "
   ]
  },
  {
   "cell_type": "code",
   "execution_count": 98,
   "metadata": {},
   "outputs": [],
   "source": [
    "Food_kg_south = Food[(Food['fact'] == 'Sales Volume(kg)') & (Food['market'] == 'South')]"
   ]
  },
  {
   "cell_type": "code",
   "execution_count": 99,
   "metadata": {},
   "outputs": [
    {
     "data": {
      "text/plain": [
       "(216, 29)"
      ]
     },
     "execution_count": 99,
     "metadata": {},
     "output_type": "execute_result"
    }
   ],
   "source": [
    "Food_kg_south.shape"
   ]
  },
  {
   "cell_type": "code",
   "execution_count": 100,
   "metadata": {},
   "outputs": [
    {
     "data": {
      "text/plain": [
       "Plain      151\n",
       "Savoury     49\n",
       "Sweet       16\n",
       "Name: flavor, dtype: int64"
      ]
     },
     "execution_count": 100,
     "metadata": {},
     "output_type": "execute_result"
    }
   ],
   "source": [
    "Food_kg_south['flavor'].value_counts()"
   ]
  },
  {
   "cell_type": "code",
   "execution_count": 101,
   "metadata": {},
   "outputs": [
    {
     "name": "stderr",
     "output_type": "stream",
     "text": [
      "<ipython-input-101-7eee4882b06d>:1: SettingWithCopyWarning: \n",
      "A value is trying to be set on a copy of a slice from a DataFrame.\n",
      "Try using .loc[row_indexer,col_indexer] = value instead\n",
      "\n",
      "See the caveats in the documentation: https://pandas.pydata.org/pandas-docs/stable/user_guide/indexing.html#returning-a-view-versus-a-copy\n",
      "  Food_kg_south['Total_2011'] = Food_kg_south.loc[:,'jan11':'dec11'].sum(axis=1)\n"
     ]
    }
   ],
   "source": [
    "Food_kg_south['Total_2011'] = Food_kg_south.loc[:,'jan11':'dec11'].sum(axis=1)"
   ]
  },
  {
   "cell_type": "code",
   "execution_count": 102,
   "metadata": {},
   "outputs": [
    {
     "name": "stderr",
     "output_type": "stream",
     "text": [
      "<ipython-input-102-db0a6a562301>:1: SettingWithCopyWarning: \n",
      "A value is trying to be set on a copy of a slice from a DataFrame.\n",
      "Try using .loc[row_indexer,col_indexer] = value instead\n",
      "\n",
      "See the caveats in the documentation: https://pandas.pydata.org/pandas-docs/stable/user_guide/indexing.html#returning-a-view-versus-a-copy\n",
      "  Food_kg_south['Total_2012'] = Food_kg_south.loc[:,'jan12':'dec12'].sum(axis=1)\n"
     ]
    }
   ],
   "source": [
    "Food_kg_south['Total_2012'] = Food_kg_south.loc[:,'jan12':'dec12'].sum(axis=1)"
   ]
  },
  {
   "cell_type": "code",
   "execution_count": 103,
   "metadata": {},
   "outputs": [],
   "source": [
    "#Food_kg_south.sample(5)"
   ]
  },
  {
   "cell_type": "code",
   "execution_count": 104,
   "metadata": {},
   "outputs": [],
   "source": [
    "flavor = Food_kg_south[['flavor','jan11','jan12','Total_2011','Total_2012']].groupby(['flavor']).sum()"
   ]
  },
  {
   "cell_type": "code",
   "execution_count": 105,
   "metadata": {},
   "outputs": [
    {
     "data": {
      "text/html": [
       "<div>\n",
       "<style scoped>\n",
       "    .dataframe tbody tr th:only-of-type {\n",
       "        vertical-align: middle;\n",
       "    }\n",
       "\n",
       "    .dataframe tbody tr th {\n",
       "        vertical-align: top;\n",
       "    }\n",
       "\n",
       "    .dataframe thead th {\n",
       "        text-align: right;\n",
       "    }\n",
       "</style>\n",
       "<table border=\"1\" class=\"dataframe\">\n",
       "  <thead>\n",
       "    <tr style=\"text-align: right;\">\n",
       "      <th></th>\n",
       "      <th>jan11</th>\n",
       "      <th>jan12</th>\n",
       "      <th>Total_2011</th>\n",
       "      <th>Total_2012</th>\n",
       "    </tr>\n",
       "    <tr>\n",
       "      <th>flavor</th>\n",
       "      <th></th>\n",
       "      <th></th>\n",
       "      <th></th>\n",
       "      <th></th>\n",
       "    </tr>\n",
       "  </thead>\n",
       "  <tbody>\n",
       "    <tr>\n",
       "      <th>Plain</th>\n",
       "      <td>386974.062693</td>\n",
       "      <td>488030.948731</td>\n",
       "      <td>4.780483e+06</td>\n",
       "      <td>6.436476e+06</td>\n",
       "    </tr>\n",
       "    <tr>\n",
       "      <th>Savoury</th>\n",
       "      <td>1.100000</td>\n",
       "      <td>9621.269166</td>\n",
       "      <td>1.536293e+04</td>\n",
       "      <td>3.492585e+05</td>\n",
       "    </tr>\n",
       "    <tr>\n",
       "      <th>Sweet</th>\n",
       "      <td>1547.145116</td>\n",
       "      <td>1865.897530</td>\n",
       "      <td>2.016118e+04</td>\n",
       "      <td>8.081039e+04</td>\n",
       "    </tr>\n",
       "  </tbody>\n",
       "</table>\n",
       "</div>"
      ],
      "text/plain": [
       "                 jan11          jan12    Total_2011    Total_2012\n",
       "flavor                                                           \n",
       "Plain    386974.062693  488030.948731  4.780483e+06  6.436476e+06\n",
       "Savoury       1.100000    9621.269166  1.536293e+04  3.492585e+05\n",
       "Sweet      1547.145116    1865.897530  2.016118e+04  8.081039e+04"
      ]
     },
     "execution_count": 105,
     "metadata": {},
     "output_type": "execute_result"
    }
   ],
   "source": [
    "flavor"
   ]
  },
  {
   "cell_type": "markdown",
   "metadata": {},
   "source": [
    "#### Annual growth rate formula = (ending value/ beginning value) -1\n",
    "#### Growth rate = (Absolute change / Original value) * 100\n",
    "#### (Absolute change = New value - Original value)"
   ]
  },
  {
   "cell_type": "code",
   "execution_count": 106,
   "metadata": {},
   "outputs": [],
   "source": [
    "flavor['grow_rate_11'] = ((flavor['Total_2011'] / flavor['jan11']) - 1) "
   ]
  },
  {
   "cell_type": "code",
   "execution_count": 107,
   "metadata": {},
   "outputs": [],
   "source": [
    "flavor['grow_rate_12'] = ((flavor['Total_2012'] / flavor['jan12']) - 1) "
   ]
  },
  {
   "cell_type": "code",
   "execution_count": 108,
   "metadata": {},
   "outputs": [],
   "source": [
    "flavor['growth_rate_over_time'] = ((flavor['Total_2012']-flavor['Total_2011'])/flavor['Total_2011']) * 100"
   ]
  },
  {
   "cell_type": "code",
   "execution_count": 109,
   "metadata": {},
   "outputs": [
    {
     "data": {
      "text/html": [
       "<div>\n",
       "<style scoped>\n",
       "    .dataframe tbody tr th:only-of-type {\n",
       "        vertical-align: middle;\n",
       "    }\n",
       "\n",
       "    .dataframe tbody tr th {\n",
       "        vertical-align: top;\n",
       "    }\n",
       "\n",
       "    .dataframe thead th {\n",
       "        text-align: right;\n",
       "    }\n",
       "</style>\n",
       "<table border=\"1\" class=\"dataframe\">\n",
       "  <thead>\n",
       "    <tr style=\"text-align: right;\">\n",
       "      <th></th>\n",
       "      <th>jan11</th>\n",
       "      <th>jan12</th>\n",
       "      <th>Total_2011</th>\n",
       "      <th>Total_2012</th>\n",
       "      <th>grow_rate_11</th>\n",
       "      <th>grow_rate_12</th>\n",
       "      <th>growth_rate_over_time</th>\n",
       "    </tr>\n",
       "    <tr>\n",
       "      <th>flavor</th>\n",
       "      <th></th>\n",
       "      <th></th>\n",
       "      <th></th>\n",
       "      <th></th>\n",
       "      <th></th>\n",
       "      <th></th>\n",
       "      <th></th>\n",
       "    </tr>\n",
       "  </thead>\n",
       "  <tbody>\n",
       "    <tr>\n",
       "      <th>Plain</th>\n",
       "      <td>386974.062693</td>\n",
       "      <td>488030.948731</td>\n",
       "      <td>4.780483e+06</td>\n",
       "      <td>6.436476e+06</td>\n",
       "      <td>11.353498</td>\n",
       "      <td>12.188663</td>\n",
       "      <td>34.640686</td>\n",
       "    </tr>\n",
       "    <tr>\n",
       "      <th>Savoury</th>\n",
       "      <td>1.100000</td>\n",
       "      <td>9621.269166</td>\n",
       "      <td>1.536293e+04</td>\n",
       "      <td>3.492585e+05</td>\n",
       "      <td>13965.303055</td>\n",
       "      <td>35.300670</td>\n",
       "      <td>2173.384314</td>\n",
       "    </tr>\n",
       "    <tr>\n",
       "      <th>Sweet</th>\n",
       "      <td>1547.145116</td>\n",
       "      <td>1865.897530</td>\n",
       "      <td>2.016118e+04</td>\n",
       "      <td>8.081039e+04</td>\n",
       "      <td>12.031212</td>\n",
       "      <td>42.309124</td>\n",
       "      <td>300.821793</td>\n",
       "    </tr>\n",
       "  </tbody>\n",
       "</table>\n",
       "</div>"
      ],
      "text/plain": [
       "                 jan11          jan12    Total_2011    Total_2012  \\\n",
       "flavor                                                              \n",
       "Plain    386974.062693  488030.948731  4.780483e+06  6.436476e+06   \n",
       "Savoury       1.100000    9621.269166  1.536293e+04  3.492585e+05   \n",
       "Sweet      1547.145116    1865.897530  2.016118e+04  8.081039e+04   \n",
       "\n",
       "         grow_rate_11  grow_rate_12  growth_rate_over_time  \n",
       "flavor                                                      \n",
       "Plain       11.353498     12.188663              34.640686  \n",
       "Savoury  13965.303055     35.300670            2173.384314  \n",
       "Sweet       12.031212     42.309124             300.821793  "
      ]
     },
     "execution_count": 109,
     "metadata": {},
     "output_type": "execute_result"
    }
   ],
   "source": [
    "flavor\n",
    "#the annual volume growth rates for three different flavors in 'South' market \n",
    "#i.e grow_rate_11 for year 2011 and grow_rate_12 for year 2012\n",
    "\n",
    "#based on growth_rate_over_time we can see that \n",
    "#for 'Plain' flavor we have a growth of 34.64 percent compared to year 2011\n",
    "#for 'Savoury' we have a growth of more than 2100 percent compared to year 2011\n",
    "#for 'Sweet' we have a growth of 300 percent compared to year 2011"
   ]
  },
  {
   "cell_type": "code",
   "execution_count": null,
   "metadata": {},
   "outputs": [],
   "source": []
  },
  {
   "cell_type": "markdown",
   "metadata": {},
   "source": [
    "# c\n",
    "## largest selling pack size for 'Plain' flavor, brand 'K' and 'Non-South' market in the year 2012"
   ]
  },
  {
   "cell_type": "code",
   "execution_count": 110,
   "metadata": {},
   "outputs": [],
   "source": [
    "pack = Food[(Food['fact'] == 'Sales Value (Rs)') & (Food['flavor'] == 'Plain') & (Food['brand'] == 'K') & (Food['market'] == 'Non-South')]"
   ]
  },
  {
   "cell_type": "code",
   "execution_count": 111,
   "metadata": {},
   "outputs": [
    {
     "data": {
      "text/plain": [
       "(14, 29)"
      ]
     },
     "execution_count": 111,
     "metadata": {},
     "output_type": "execute_result"
    }
   ],
   "source": [
    "pack.shape"
   ]
  },
  {
   "cell_type": "code",
   "execution_count": 112,
   "metadata": {},
   "outputs": [
    {
     "name": "stderr",
     "output_type": "stream",
     "text": [
      "<ipython-input-112-e8d884891ac4>:1: SettingWithCopyWarning: \n",
      "A value is trying to be set on a copy of a slice from a DataFrame.\n",
      "Try using .loc[row_indexer,col_indexer] = value instead\n",
      "\n",
      "See the caveats in the documentation: https://pandas.pydata.org/pandas-docs/stable/user_guide/indexing.html#returning-a-view-versus-a-copy\n",
      "  pack['Total_2012'] = pack.loc[:,'jan12':'dec12'].sum(axis=1)\n"
     ]
    }
   ],
   "source": [
    "pack['Total_2012'] = pack.loc[:,'jan12':'dec12'].sum(axis=1)"
   ]
  },
  {
   "cell_type": "code",
   "execution_count": 113,
   "metadata": {},
   "outputs": [
    {
     "data": {
      "text/plain": [
       "(14, 30)"
      ]
     },
     "execution_count": 113,
     "metadata": {},
     "output_type": "execute_result"
    }
   ],
   "source": [
    "pack.shape"
   ]
  },
  {
   "cell_type": "code",
   "execution_count": 114,
   "metadata": {
    "scrolled": true
   },
   "outputs": [],
   "source": [
    "#pack.sample(5)"
   ]
  },
  {
   "cell_type": "code",
   "execution_count": 115,
   "metadata": {},
   "outputs": [],
   "source": [
    "#pack['pack size - gms'].value_counts()"
   ]
  },
  {
   "cell_type": "code",
   "execution_count": 116,
   "metadata": {},
   "outputs": [],
   "source": [
    "pack_size = pack[['pack size - gms','Total_2012']].groupby(['pack size - gms']).sum().sort_values(['Total_2012'], ascending=False)"
   ]
  },
  {
   "cell_type": "code",
   "execution_count": 117,
   "metadata": {},
   "outputs": [
    {
     "data": {
      "text/html": [
       "<div>\n",
       "<style scoped>\n",
       "    .dataframe tbody tr th:only-of-type {\n",
       "        vertical-align: middle;\n",
       "    }\n",
       "\n",
       "    .dataframe tbody tr th {\n",
       "        vertical-align: top;\n",
       "    }\n",
       "\n",
       "    .dataframe thead th {\n",
       "        text-align: right;\n",
       "    }\n",
       "</style>\n",
       "<table border=\"1\" class=\"dataframe\">\n",
       "  <thead>\n",
       "    <tr style=\"text-align: right;\">\n",
       "      <th></th>\n",
       "      <th>Total_2012</th>\n",
       "    </tr>\n",
       "    <tr>\n",
       "      <th>pack size - gms</th>\n",
       "      <th></th>\n",
       "    </tr>\n",
       "  </thead>\n",
       "  <tbody>\n",
       "    <tr>\n",
       "      <th>1000</th>\n",
       "      <td>37967.374872</td>\n",
       "    </tr>\n",
       "    <tr>\n",
       "      <th>400</th>\n",
       "      <td>26701.434527</td>\n",
       "    </tr>\n",
       "    <tr>\n",
       "      <th>200</th>\n",
       "      <td>10181.273470</td>\n",
       "    </tr>\n",
       "    <tr>\n",
       "      <th>500</th>\n",
       "      <td>92.966957</td>\n",
       "    </tr>\n",
       "    <tr>\n",
       "      <th>450</th>\n",
       "      <td>0.000000</td>\n",
       "    </tr>\n",
       "  </tbody>\n",
       "</table>\n",
       "</div>"
      ],
      "text/plain": [
       "                   Total_2012\n",
       "pack size - gms              \n",
       "1000             37967.374872\n",
       "400              26701.434527\n",
       "200              10181.273470\n",
       "500                 92.966957\n",
       "450                  0.000000"
      ]
     },
     "execution_count": 117,
     "metadata": {},
     "output_type": "execute_result"
    }
   ],
   "source": [
    "pack_size\n",
    "#The largest selling pack size is of 1000 gms for 'Plain' flavor, brand 'K' and 'Non-South' market in the year 2012"
   ]
  },
  {
   "cell_type": "code",
   "execution_count": null,
   "metadata": {},
   "outputs": [],
   "source": []
  },
  {
   "cell_type": "markdown",
   "metadata": {},
   "source": [
    "## d\n",
    "## for market 'National' plotting monthly sales of each brand"
   ]
  },
  {
   "cell_type": "code",
   "execution_count": 118,
   "metadata": {},
   "outputs": [],
   "source": [
    "N_salesRs =  Food[(Food['market'] == 'National') & (Food['fact'] == 'Sales Value (Rs)')]"
   ]
  },
  {
   "cell_type": "code",
   "execution_count": 119,
   "metadata": {},
   "outputs": [
    {
     "data": {
      "text/plain": [
       "(216, 29)"
      ]
     },
     "execution_count": 119,
     "metadata": {},
     "output_type": "execute_result"
    }
   ],
   "source": [
    "N_salesRs.shape"
   ]
  },
  {
   "cell_type": "code",
   "execution_count": 120,
   "metadata": {},
   "outputs": [],
   "source": [
    "N_salesRs_brand = N_salesRs.groupby(['brand']).sum().drop(columns=['pack size - gms'],axis = 1)"
   ]
  },
  {
   "cell_type": "code",
   "execution_count": 121,
   "metadata": {},
   "outputs": [
    {
     "data": {
      "text/html": [
       "<div>\n",
       "<style scoped>\n",
       "    .dataframe tbody tr th:only-of-type {\n",
       "        vertical-align: middle;\n",
       "    }\n",
       "\n",
       "    .dataframe tbody tr th {\n",
       "        vertical-align: top;\n",
       "    }\n",
       "\n",
       "    .dataframe thead th {\n",
       "        text-align: right;\n",
       "    }\n",
       "</style>\n",
       "<table border=\"1\" class=\"dataframe\">\n",
       "  <thead>\n",
       "    <tr style=\"text-align: right;\">\n",
       "      <th></th>\n",
       "      <th>jan11</th>\n",
       "      <th>feb11</th>\n",
       "      <th>mar11</th>\n",
       "      <th>apr11</th>\n",
       "      <th>may11</th>\n",
       "      <th>jun11</th>\n",
       "      <th>jul11</th>\n",
       "      <th>aug11</th>\n",
       "      <th>sep11</th>\n",
       "      <th>oct11</th>\n",
       "      <th>...</th>\n",
       "      <th>mar12</th>\n",
       "      <th>apr12</th>\n",
       "      <th>may12</th>\n",
       "      <th>jun12</th>\n",
       "      <th>jul12</th>\n",
       "      <th>aug12</th>\n",
       "      <th>sep12</th>\n",
       "      <th>oct12</th>\n",
       "      <th>nov12</th>\n",
       "      <th>dec12</th>\n",
       "    </tr>\n",
       "    <tr>\n",
       "      <th>brand</th>\n",
       "      <th></th>\n",
       "      <th></th>\n",
       "      <th></th>\n",
       "      <th></th>\n",
       "      <th></th>\n",
       "      <th></th>\n",
       "      <th></th>\n",
       "      <th></th>\n",
       "      <th></th>\n",
       "      <th></th>\n",
       "      <th></th>\n",
       "      <th></th>\n",
       "      <th></th>\n",
       "      <th></th>\n",
       "      <th></th>\n",
       "      <th></th>\n",
       "      <th></th>\n",
       "      <th></th>\n",
       "      <th></th>\n",
       "      <th></th>\n",
       "      <th></th>\n",
       "    </tr>\n",
       "  </thead>\n",
       "  <tbody>\n",
       "    <tr>\n",
       "      <th>B</th>\n",
       "      <td>14463.670520</td>\n",
       "      <td>14930.015728</td>\n",
       "      <td>15007.691968</td>\n",
       "      <td>13684.244461</td>\n",
       "      <td>12907.326195</td>\n",
       "      <td>13566.812841</td>\n",
       "      <td>14470.028181</td>\n",
       "      <td>15706.510488</td>\n",
       "      <td>15186.416824</td>\n",
       "      <td>16917.614507</td>\n",
       "      <td>...</td>\n",
       "      <td>12348.664061</td>\n",
       "      <td>12576.730159</td>\n",
       "      <td>13368.432433</td>\n",
       "      <td>12348.853687</td>\n",
       "      <td>13727.730657</td>\n",
       "      <td>13434.613652</td>\n",
       "      <td>13613.166823</td>\n",
       "      <td>13021.106861</td>\n",
       "      <td>12234.999697</td>\n",
       "      <td>10898.608152</td>\n",
       "    </tr>\n",
       "    <tr>\n",
       "      <th>H</th>\n",
       "      <td>0.000000</td>\n",
       "      <td>0.000000</td>\n",
       "      <td>0.000000</td>\n",
       "      <td>0.000000</td>\n",
       "      <td>0.000000</td>\n",
       "      <td>0.000000</td>\n",
       "      <td>0.000000</td>\n",
       "      <td>0.000000</td>\n",
       "      <td>0.000000</td>\n",
       "      <td>0.000000</td>\n",
       "      <td>...</td>\n",
       "      <td>12539.113750</td>\n",
       "      <td>12689.969500</td>\n",
       "      <td>12687.646000</td>\n",
       "      <td>12783.918380</td>\n",
       "      <td>12496.994000</td>\n",
       "      <td>12896.814380</td>\n",
       "      <td>13932.281380</td>\n",
       "      <td>11874.555130</td>\n",
       "      <td>13377.447859</td>\n",
       "      <td>14410.104716</td>\n",
       "    </tr>\n",
       "    <tr>\n",
       "      <th>K</th>\n",
       "      <td>9110.244050</td>\n",
       "      <td>8659.339888</td>\n",
       "      <td>10412.437541</td>\n",
       "      <td>8665.852298</td>\n",
       "      <td>8235.132959</td>\n",
       "      <td>8674.992692</td>\n",
       "      <td>8663.806874</td>\n",
       "      <td>9304.184426</td>\n",
       "      <td>9731.484691</td>\n",
       "      <td>8970.150551</td>\n",
       "      <td>...</td>\n",
       "      <td>9396.242397</td>\n",
       "      <td>10039.547121</td>\n",
       "      <td>10042.585339</td>\n",
       "      <td>11295.319295</td>\n",
       "      <td>12712.968947</td>\n",
       "      <td>12919.804077</td>\n",
       "      <td>13034.527256</td>\n",
       "      <td>13030.752882</td>\n",
       "      <td>11738.306535</td>\n",
       "      <td>11014.744038</td>\n",
       "    </tr>\n",
       "    <tr>\n",
       "      <th>L</th>\n",
       "      <td>12.428831</td>\n",
       "      <td>5.034335</td>\n",
       "      <td>420.362009</td>\n",
       "      <td>581.229395</td>\n",
       "      <td>433.206677</td>\n",
       "      <td>125.216325</td>\n",
       "      <td>251.540262</td>\n",
       "      <td>253.564575</td>\n",
       "      <td>575.163703</td>\n",
       "      <td>355.357817</td>\n",
       "      <td>...</td>\n",
       "      <td>93.503342</td>\n",
       "      <td>174.138554</td>\n",
       "      <td>179.209805</td>\n",
       "      <td>136.512438</td>\n",
       "      <td>176.773181</td>\n",
       "      <td>107.002192</td>\n",
       "      <td>158.230922</td>\n",
       "      <td>89.164488</td>\n",
       "      <td>0.000000</td>\n",
       "      <td>57.819961</td>\n",
       "    </tr>\n",
       "    <tr>\n",
       "      <th>Q</th>\n",
       "      <td>43646.001189</td>\n",
       "      <td>40539.430977</td>\n",
       "      <td>43361.753257</td>\n",
       "      <td>45029.319444</td>\n",
       "      <td>43307.044753</td>\n",
       "      <td>45503.004147</td>\n",
       "      <td>46430.789186</td>\n",
       "      <td>48558.986014</td>\n",
       "      <td>46729.248612</td>\n",
       "      <td>47360.420899</td>\n",
       "      <td>...</td>\n",
       "      <td>51913.481961</td>\n",
       "      <td>54117.866794</td>\n",
       "      <td>54481.472602</td>\n",
       "      <td>58457.462722</td>\n",
       "      <td>64548.963269</td>\n",
       "      <td>70924.756442</td>\n",
       "      <td>73202.483821</td>\n",
       "      <td>69412.559384</td>\n",
       "      <td>69716.805802</td>\n",
       "      <td>69348.001764</td>\n",
       "    </tr>\n",
       "    <tr>\n",
       "      <th>S</th>\n",
       "      <td>5930.190364</td>\n",
       "      <td>5781.799630</td>\n",
       "      <td>5605.310101</td>\n",
       "      <td>6267.047069</td>\n",
       "      <td>5572.820758</td>\n",
       "      <td>5703.904393</td>\n",
       "      <td>7857.311296</td>\n",
       "      <td>9913.341542</td>\n",
       "      <td>9689.008989</td>\n",
       "      <td>10285.620408</td>\n",
       "      <td>...</td>\n",
       "      <td>18130.048811</td>\n",
       "      <td>18538.626545</td>\n",
       "      <td>17163.291775</td>\n",
       "      <td>17225.946577</td>\n",
       "      <td>20049.498697</td>\n",
       "      <td>24822.437486</td>\n",
       "      <td>24312.569057</td>\n",
       "      <td>23408.683107</td>\n",
       "      <td>21038.964274</td>\n",
       "      <td>21991.000925</td>\n",
       "    </tr>\n",
       "  </tbody>\n",
       "</table>\n",
       "<p>6 rows × 24 columns</p>\n",
       "</div>"
      ],
      "text/plain": [
       "              jan11         feb11         mar11         apr11         may11  \\\n",
       "brand                                                                         \n",
       "B      14463.670520  14930.015728  15007.691968  13684.244461  12907.326195   \n",
       "H          0.000000      0.000000      0.000000      0.000000      0.000000   \n",
       "K       9110.244050   8659.339888  10412.437541   8665.852298   8235.132959   \n",
       "L         12.428831      5.034335    420.362009    581.229395    433.206677   \n",
       "Q      43646.001189  40539.430977  43361.753257  45029.319444  43307.044753   \n",
       "S       5930.190364   5781.799630   5605.310101   6267.047069   5572.820758   \n",
       "\n",
       "              jun11         jul11         aug11         sep11         oct11  \\\n",
       "brand                                                                         \n",
       "B      13566.812841  14470.028181  15706.510488  15186.416824  16917.614507   \n",
       "H          0.000000      0.000000      0.000000      0.000000      0.000000   \n",
       "K       8674.992692   8663.806874   9304.184426   9731.484691   8970.150551   \n",
       "L        125.216325    251.540262    253.564575    575.163703    355.357817   \n",
       "Q      45503.004147  46430.789186  48558.986014  46729.248612  47360.420899   \n",
       "S       5703.904393   7857.311296   9913.341542   9689.008989  10285.620408   \n",
       "\n",
       "       ...         mar12         apr12         may12         jun12  \\\n",
       "brand  ...                                                           \n",
       "B      ...  12348.664061  12576.730159  13368.432433  12348.853687   \n",
       "H      ...  12539.113750  12689.969500  12687.646000  12783.918380   \n",
       "K      ...   9396.242397  10039.547121  10042.585339  11295.319295   \n",
       "L      ...     93.503342    174.138554    179.209805    136.512438   \n",
       "Q      ...  51913.481961  54117.866794  54481.472602  58457.462722   \n",
       "S      ...  18130.048811  18538.626545  17163.291775  17225.946577   \n",
       "\n",
       "              jul12         aug12         sep12         oct12         nov12  \\\n",
       "brand                                                                         \n",
       "B      13727.730657  13434.613652  13613.166823  13021.106861  12234.999697   \n",
       "H      12496.994000  12896.814380  13932.281380  11874.555130  13377.447859   \n",
       "K      12712.968947  12919.804077  13034.527256  13030.752882  11738.306535   \n",
       "L        176.773181    107.002192    158.230922     89.164488      0.000000   \n",
       "Q      64548.963269  70924.756442  73202.483821  69412.559384  69716.805802   \n",
       "S      20049.498697  24822.437486  24312.569057  23408.683107  21038.964274   \n",
       "\n",
       "              dec12  \n",
       "brand                \n",
       "B      10898.608152  \n",
       "H      14410.104716  \n",
       "K      11014.744038  \n",
       "L         57.819961  \n",
       "Q      69348.001764  \n",
       "S      21991.000925  \n",
       "\n",
       "[6 rows x 24 columns]"
      ]
     },
     "execution_count": 121,
     "metadata": {},
     "output_type": "execute_result"
    }
   ],
   "source": [
    "N_salesRs_brand "
   ]
  },
  {
   "cell_type": "code",
   "execution_count": 122,
   "metadata": {},
   "outputs": [],
   "source": [
    "#N_salesRs_brand.transpose()"
   ]
  },
  {
   "cell_type": "code",
   "execution_count": 123,
   "metadata": {},
   "outputs": [
    {
     "data": {
      "image/png": "[encoded data removed]",
      "text/plain": [
       "<Figure size 1080x576 with 1 Axes>"
      ]
     },
     "metadata": {
      "needs_background": "light"
     },
     "output_type": "display_data"
    }
   ],
   "source": [
    "N_salesRs_brand.transpose().plot(kind ='line', figsize=(15,8), marker='o')\n",
    "plt.xlabel('Months')\n",
    "plt.ylabel('Sales value (Rs)')\n",
    "plt.title('Trend of monthly sales value for each brand')\n",
    "plt.show()\n",
    "\n",
    "#brand Q has performed really well and has an upward trend\n",
    "#initially brand H was performing poorly but after nov11 sales value have started to increase and are steady from mar12\n",
    "#the sales value for brand B show a slightly downward trend\n",
    "#the sales value for brand S have started to increase from jan12\n",
    "#for brand K the sales value has been more or less steady throughout\n",
    "#brand L has perfomed really poorly"
   ]
  },
  {
   "cell_type": "code",
   "execution_count": null,
   "metadata": {},
   "outputs": [],
   "source": []
  },
  {
   "cell_type": "code",
   "execution_count": 124,
   "metadata": {},
   "outputs": [],
   "source": [
    "## market == National and fact == Sales Volume(kg)"
   ]
  },
  {
   "cell_type": "code",
   "execution_count": 125,
   "metadata": {},
   "outputs": [],
   "source": [
    "N_saleskg =  Food[(Food['market'] == 'National') & (Food['fact'] == 'Sales Volume(kg)')]"
   ]
  },
  {
   "cell_type": "code",
   "execution_count": 126,
   "metadata": {},
   "outputs": [
    {
     "data": {
      "text/plain": [
       "(216, 29)"
      ]
     },
     "execution_count": 126,
     "metadata": {},
     "output_type": "execute_result"
    }
   ],
   "source": [
    "N_saleskg.shape"
   ]
  },
  {
   "cell_type": "code",
   "execution_count": 127,
   "metadata": {},
   "outputs": [],
   "source": [
    "N_saleskg_brand = N_saleskg.groupby(['brand']).sum().drop(columns=['pack size - gms'],axis = 1)"
   ]
  },
  {
   "cell_type": "code",
   "execution_count": 128,
   "metadata": {},
   "outputs": [
    {
     "data": {
      "text/html": [
       "<div>\n",
       "<style scoped>\n",
       "    .dataframe tbody tr th:only-of-type {\n",
       "        vertical-align: middle;\n",
       "    }\n",
       "\n",
       "    .dataframe tbody tr th {\n",
       "        vertical-align: top;\n",
       "    }\n",
       "\n",
       "    .dataframe thead th {\n",
       "        text-align: right;\n",
       "    }\n",
       "</style>\n",
       "<table border=\"1\" class=\"dataframe\">\n",
       "  <thead>\n",
       "    <tr style=\"text-align: right;\">\n",
       "      <th></th>\n",
       "      <th>jan11</th>\n",
       "      <th>feb11</th>\n",
       "      <th>mar11</th>\n",
       "      <th>apr11</th>\n",
       "      <th>may11</th>\n",
       "      <th>jun11</th>\n",
       "      <th>jul11</th>\n",
       "      <th>aug11</th>\n",
       "      <th>sep11</th>\n",
       "      <th>oct11</th>\n",
       "      <th>...</th>\n",
       "      <th>mar12</th>\n",
       "      <th>apr12</th>\n",
       "      <th>may12</th>\n",
       "      <th>jun12</th>\n",
       "      <th>jul12</th>\n",
       "      <th>aug12</th>\n",
       "      <th>sep12</th>\n",
       "      <th>oct12</th>\n",
       "      <th>nov12</th>\n",
       "      <th>dec12</th>\n",
       "    </tr>\n",
       "    <tr>\n",
       "      <th>brand</th>\n",
       "      <th></th>\n",
       "      <th></th>\n",
       "      <th></th>\n",
       "      <th></th>\n",
       "      <th></th>\n",
       "      <th></th>\n",
       "      <th></th>\n",
       "      <th></th>\n",
       "      <th></th>\n",
       "      <th></th>\n",
       "      <th></th>\n",
       "      <th></th>\n",
       "      <th></th>\n",
       "      <th></th>\n",
       "      <th></th>\n",
       "      <th></th>\n",
       "      <th></th>\n",
       "      <th></th>\n",
       "      <th></th>\n",
       "      <th></th>\n",
       "      <th></th>\n",
       "    </tr>\n",
       "  </thead>\n",
       "  <tbody>\n",
       "    <tr>\n",
       "      <th>B</th>\n",
       "      <td>107788.138458</td>\n",
       "      <td>110713.640373</td>\n",
       "      <td>111491.469040</td>\n",
       "      <td>102528.446065</td>\n",
       "      <td>95400.459301</td>\n",
       "      <td>99615.484293</td>\n",
       "      <td>106068.576741</td>\n",
       "      <td>109560.816193</td>\n",
       "      <td>101493.901221</td>\n",
       "      <td>114056.252165</td>\n",
       "      <td>...</td>\n",
       "      <td>81507.932074</td>\n",
       "      <td>83933.927981</td>\n",
       "      <td>90680.045001</td>\n",
       "      <td>83235.268795</td>\n",
       "      <td>92741.628537</td>\n",
       "      <td>88753.891511</td>\n",
       "      <td>89732.436102</td>\n",
       "      <td>82922.860005</td>\n",
       "      <td>77745.088865</td>\n",
       "      <td>70305.419023</td>\n",
       "    </tr>\n",
       "    <tr>\n",
       "      <th>H</th>\n",
       "      <td>0.000000</td>\n",
       "      <td>0.000000</td>\n",
       "      <td>0.000000</td>\n",
       "      <td>0.000000</td>\n",
       "      <td>0.000000</td>\n",
       "      <td>0.000000</td>\n",
       "      <td>0.000000</td>\n",
       "      <td>0.000000</td>\n",
       "      <td>0.000000</td>\n",
       "      <td>0.000000</td>\n",
       "      <td>...</td>\n",
       "      <td>89947.004900</td>\n",
       "      <td>91331.989200</td>\n",
       "      <td>91536.732400</td>\n",
       "      <td>91820.796900</td>\n",
       "      <td>90542.554600</td>\n",
       "      <td>92069.938900</td>\n",
       "      <td>99367.291600</td>\n",
       "      <td>84974.204100</td>\n",
       "      <td>96009.009910</td>\n",
       "      <td>101781.258770</td>\n",
       "    </tr>\n",
       "    <tr>\n",
       "      <th>K</th>\n",
       "      <td>70465.388220</td>\n",
       "      <td>67038.927410</td>\n",
       "      <td>81617.437230</td>\n",
       "      <td>68127.155790</td>\n",
       "      <td>63898.355120</td>\n",
       "      <td>66836.109240</td>\n",
       "      <td>68109.302460</td>\n",
       "      <td>72160.480180</td>\n",
       "      <td>75472.152890</td>\n",
       "      <td>70264.655060</td>\n",
       "      <td>...</td>\n",
       "      <td>70456.698270</td>\n",
       "      <td>75220.463110</td>\n",
       "      <td>74684.688180</td>\n",
       "      <td>84389.592460</td>\n",
       "      <td>93660.889460</td>\n",
       "      <td>95982.889320</td>\n",
       "      <td>99643.777780</td>\n",
       "      <td>95246.118390</td>\n",
       "      <td>85957.114010</td>\n",
       "      <td>79531.020070</td>\n",
       "    </tr>\n",
       "    <tr>\n",
       "      <th>L</th>\n",
       "      <td>85.801010</td>\n",
       "      <td>36.995362</td>\n",
       "      <td>3170.723885</td>\n",
       "      <td>4464.422789</td>\n",
       "      <td>3302.876535</td>\n",
       "      <td>983.533291</td>\n",
       "      <td>1976.766823</td>\n",
       "      <td>1988.431904</td>\n",
       "      <td>4430.401366</td>\n",
       "      <td>2714.075993</td>\n",
       "      <td>...</td>\n",
       "      <td>742.344192</td>\n",
       "      <td>1414.028350</td>\n",
       "      <td>1448.122741</td>\n",
       "      <td>1106.847142</td>\n",
       "      <td>1299.809366</td>\n",
       "      <td>859.228268</td>\n",
       "      <td>1272.111571</td>\n",
       "      <td>719.429571</td>\n",
       "      <td>0.000000</td>\n",
       "      <td>469.787198</td>\n",
       "    </tr>\n",
       "    <tr>\n",
       "      <th>Q</th>\n",
       "      <td>330639.464375</td>\n",
       "      <td>311212.164616</td>\n",
       "      <td>335804.051418</td>\n",
       "      <td>352551.300573</td>\n",
       "      <td>334849.636225</td>\n",
       "      <td>347985.019878</td>\n",
       "      <td>352217.306499</td>\n",
       "      <td>367358.911475</td>\n",
       "      <td>350666.661264</td>\n",
       "      <td>353965.755461</td>\n",
       "      <td>...</td>\n",
       "      <td>385279.782359</td>\n",
       "      <td>397374.118435</td>\n",
       "      <td>382304.565855</td>\n",
       "      <td>407630.825774</td>\n",
       "      <td>433726.329905</td>\n",
       "      <td>458153.460156</td>\n",
       "      <td>489932.693685</td>\n",
       "      <td>445088.457101</td>\n",
       "      <td>444757.499294</td>\n",
       "      <td>451854.181373</td>\n",
       "    </tr>\n",
       "    <tr>\n",
       "      <th>S</th>\n",
       "      <td>54078.558870</td>\n",
       "      <td>52990.918480</td>\n",
       "      <td>50882.024750</td>\n",
       "      <td>56283.921960</td>\n",
       "      <td>48493.344190</td>\n",
       "      <td>49136.259040</td>\n",
       "      <td>67599.362050</td>\n",
       "      <td>83590.195020</td>\n",
       "      <td>79397.963940</td>\n",
       "      <td>82485.442510</td>\n",
       "      <td>...</td>\n",
       "      <td>110153.157958</td>\n",
       "      <td>109050.620566</td>\n",
       "      <td>105475.542548</td>\n",
       "      <td>107865.623732</td>\n",
       "      <td>121398.672287</td>\n",
       "      <td>148896.578164</td>\n",
       "      <td>149638.610523</td>\n",
       "      <td>141866.083900</td>\n",
       "      <td>125103.079975</td>\n",
       "      <td>127702.006220</td>\n",
       "    </tr>\n",
       "  </tbody>\n",
       "</table>\n",
       "<p>6 rows × 24 columns</p>\n",
       "</div>"
      ],
      "text/plain": [
       "               jan11          feb11          mar11          apr11  \\\n",
       "brand                                                               \n",
       "B      107788.138458  110713.640373  111491.469040  102528.446065   \n",
       "H           0.000000       0.000000       0.000000       0.000000   \n",
       "K       70465.388220   67038.927410   81617.437230   68127.155790   \n",
       "L          85.801010      36.995362    3170.723885    4464.422789   \n",
       "Q      330639.464375  311212.164616  335804.051418  352551.300573   \n",
       "S       54078.558870   52990.918480   50882.024750   56283.921960   \n",
       "\n",
       "               may11          jun11          jul11          aug11  \\\n",
       "brand                                                               \n",
       "B       95400.459301   99615.484293  106068.576741  109560.816193   \n",
       "H           0.000000       0.000000       0.000000       0.000000   \n",
       "K       63898.355120   66836.109240   68109.302460   72160.480180   \n",
       "L        3302.876535     983.533291    1976.766823    1988.431904   \n",
       "Q      334849.636225  347985.019878  352217.306499  367358.911475   \n",
       "S       48493.344190   49136.259040   67599.362050   83590.195020   \n",
       "\n",
       "               sep11          oct11  ...          mar12          apr12  \\\n",
       "brand                                ...                                 \n",
       "B      101493.901221  114056.252165  ...   81507.932074   83933.927981   \n",
       "H           0.000000       0.000000  ...   89947.004900   91331.989200   \n",
       "K       75472.152890   70264.655060  ...   70456.698270   75220.463110   \n",
       "L        4430.401366    2714.075993  ...     742.344192    1414.028350   \n",
       "Q      350666.661264  353965.755461  ...  385279.782359  397374.118435   \n",
       "S       79397.963940   82485.442510  ...  110153.157958  109050.620566   \n",
       "\n",
       "               may12          jun12          jul12          aug12  \\\n",
       "brand                                                               \n",
       "B       90680.045001   83235.268795   92741.628537   88753.891511   \n",
       "H       91536.732400   91820.796900   90542.554600   92069.938900   \n",
       "K       74684.688180   84389.592460   93660.889460   95982.889320   \n",
       "L        1448.122741    1106.847142    1299.809366     859.228268   \n",
       "Q      382304.565855  407630.825774  433726.329905  458153.460156   \n",
       "S      105475.542548  107865.623732  121398.672287  148896.578164   \n",
       "\n",
       "               sep12          oct12          nov12          dec12  \n",
       "brand                                                              \n",
       "B       89732.436102   82922.860005   77745.088865   70305.419023  \n",
       "H       99367.291600   84974.204100   96009.009910  101781.258770  \n",
       "K       99643.777780   95246.118390   85957.114010   79531.020070  \n",
       "L        1272.111571     719.429571       0.000000     469.787198  \n",
       "Q      489932.693685  445088.457101  444757.499294  451854.181373  \n",
       "S      149638.610523  141866.083900  125103.079975  127702.006220  \n",
       "\n",
       "[6 rows x 24 columns]"
      ]
     },
     "execution_count": 128,
     "metadata": {},
     "output_type": "execute_result"
    }
   ],
   "source": [
    "N_saleskg_brand"
   ]
  },
  {
   "cell_type": "code",
   "execution_count": 129,
   "metadata": {},
   "outputs": [],
   "source": [
    "#N_saleskg_brand.transpose()"
   ]
  },
  {
   "cell_type": "code",
   "execution_count": 130,
   "metadata": {},
   "outputs": [
    {
     "data": {
      "image/png": "[encoded data removed]",
      "text/plain": [
       "<Figure size 1080x576 with 1 Axes>"
      ]
     },
     "metadata": {
      "needs_background": "light"
     },
     "output_type": "display_data"
    }
   ],
   "source": [
    "N_saleskg_brand.transpose().plot(kind ='line', figsize=(15,8), marker='o')\n",
    "plt.xlabel('Months')\n",
    "plt.ylabel('Sales Volume(kg)')\n",
    "plt.title('Trend of monthly sales volume for each brand')\n",
    "plt.show()\n",
    "\n",
    "#brand Q has performed really well and has an upward trend \n",
    "#initially brand H was performing poorly but after nov11 sales volume have started to increase and are steady from mar12\n",
    "#the sales volume for brand B show a downward trend\n",
    "#the sales volume for brand S have started to increase from jan12\n",
    "#for brand K the sales volume has been more or less steady throughout\n",
    "#brand L has perfomed really poorly"
   ]
  },
  {
   "cell_type": "code",
   "execution_count": null,
   "metadata": {},
   "outputs": [],
   "source": []
  },
  {
   "cell_type": "code",
   "execution_count": null,
   "metadata": {},
   "outputs": [],
   "source": []
  },
  {
   "cell_type": "code",
   "execution_count": null,
   "metadata": {},
   "outputs": [],
   "source": []
  },
  {
   "cell_type": "code",
   "execution_count": null,
   "metadata": {},
   "outputs": [],
   "source": []
  },
  {
   "cell_type": "code",
   "execution_count": null,
   "metadata": {},
   "outputs": [],
   "source": []
  },
  {
   "cell_type": "code",
   "execution_count": null,
   "metadata": {},
   "outputs": [],
   "source": []
  },
  {
   "cell_type": "code",
   "execution_count": null,
   "metadata": {},
   "outputs": [],
   "source": []
  },
  {
   "cell_type": "code",
   "execution_count": null,
   "metadata": {},
   "outputs": [],
   "source": []
  },
  {
   "cell_type": "code",
   "execution_count": null,
   "metadata": {},
   "outputs": [],
   "source": []
  }
 ],
 "metadata": {
  "kernelspec": {
   "display_name": "Python 3",
   "language": "python",
   "name": "python3"
  },
  "language_info": {
   "codemirror_mode": {
    "name": "ipython",
    "version": 3
   },
   "file_extension": ".py",
   "mimetype": "text/x-python",
   "name": "python",
   "nbconvert_exporter": "python",
   "pygments_lexer": "ipython3",
   "version": "3.8.5"
  }
 },
 "nbformat": 4,
 "nbformat_minor": 4
}
